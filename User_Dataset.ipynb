{
  "nbformat": 4,
  "nbformat_minor": 0,
  "metadata": {
    "colab": {
      "name": "User_Dataset.ipynb",
      "provenance": [],
      "collapsed_sections": []
    },
    "kernelspec": {
      "name": "python3",
      "display_name": "Python 3"
    },
    "language_info": {
      "name": "python"
    }
  },
  "cells": [
    {
      "cell_type": "markdown",
      "source": [
        "Import Libraries "
      ],
      "metadata": {
        "id": "Poa3QWqtEnn2"
      }
    },
    {
      "cell_type": "code",
      "source": [
        "import pandas as pd \n",
        "import numpy as np\n",
        "from numpy.random import choice\n",
        "import random\n"
      ],
      "metadata": {
        "id": "KBpU2D8E3J96"
      },
      "execution_count": 1,
      "outputs": []
    },
    {
      "cell_type": "markdown",
      "source": [
        "Randomly generate user interests (up to 3 interests can be chosen at a time)\n",
        "\n"
      ],
      "metadata": {
        "id": "XuhsehubE5pA"
      }
    },
    {
      "cell_type": "code",
      "source": [
        "interestsList = [\"Health services\", \"Social services\" , \"Advocacy and Justice\", \"Food and Agriculture\", \"Education\", \"Environment and Climate change\", \"Recreation and Leisure\", \"Technology and Innovation\", \"Outreach and Advertising\", \"Child services\"]\n",
        "generatedInterestsListEn = []\n",
        "generatedInterestsList = []"
      ],
      "metadata": {
        "id": "D4FL2a5pTSzS"
      },
      "execution_count": 2,
      "outputs": []
    },
    {
      "cell_type": "markdown",
      "source": [
        "Encode interests to machine readable binary numbers "
      ],
      "metadata": {
        "id": "UhryR8nfqGIy"
      }
    },
    {
      "cell_type": "code",
      "source": [
        "for i in range(12000):\n",
        "  # randomly choose number of interests \n",
        "  numInterests = random.randint(1,3) \n",
        "  \n",
        "  user_InterestsEn =[0,0,0,0,0,0,0,0,0,0]\n",
        "  user_Interests = []\n",
        "  for x in range(numInterests):\n",
        "    generatedInterest = random.choices(interestsList, [0.1,0.1,0.1,0.1,0.1,0.1,0.1,0.1,0.1,0.1])\n",
        "    # to avoid duplicates\n",
        "    while (generatedInterest in user_Interests):\n",
        "        generatedInterest = random.choices(interestsList, [0.1,0.1,0.1,0.1,0.1,0.1,0.1,0.1,0.1,0.1])\n",
        "\n",
        "    index = interestsList.index(generatedInterest[0])\n",
        "    user_InterestsEn[index] = 1\n",
        "    user_Interests.append(generatedInterest[0])\n",
        "  \n",
        "  generatedInterestsListEn.append(user_InterestsEn)\n",
        "  generatedInterestsList.append(user_Interests)"
      ],
      "metadata": {
        "id": "aoq6aO7v9vBC"
      },
      "execution_count": 3,
      "outputs": []
    },
    {
      "cell_type": "markdown",
      "source": [
        "Randomly generate user age with respect to age demographics in NYC\n",
        "\n"
      ],
      "metadata": {
        "id": "6ziUpjYcFozU"
      }
    },
    {
      "cell_type": "code",
      "source": [
        "ageList = [0,1,2]\n",
        "\n",
        "generatedAgeArray = choice(ageList,12000, p=[0.10,0.78,0.12])"
      ],
      "metadata": {
        "id": "mN1cqQYT348m"
      },
      "execution_count": 4,
      "outputs": []
    },
    {
      "cell_type": "markdown",
      "source": [
        "Randomly generate user borough with respect to population demographics in NYC"
      ],
      "metadata": {
        "id": "fzahpwyfGHYh"
      }
    },
    {
      "cell_type": "code",
      "source": [
        "boroughList = [\"BRONX\", \"BROOKLYN\", \"MANHATTAN\", \"QUEENS\", \"STATEN IS\"]\n",
        "\n",
        "generatedBoroughArray = choice(boroughList,12000, p=[0.17,0.31,0.19,0.27,0.06])"
      ],
      "metadata": {
        "id": "FPfq-kI934vs"
      },
      "execution_count": 5,
      "outputs": []
    },
    {
      "cell_type": "markdown",
      "source": [
        "Create dictionary with user information"
      ],
      "metadata": {
        "id": "1wYT56fqGUxM"
      }
    },
    {
      "cell_type": "code",
      "source": [
        "dict = {'Age': generatedAgeArray, 'Borough': generatedBoroughArray, 'Interests': generatedInterestsList} \n"
      ],
      "metadata": {
        "id": "ZR6ebqga34Zt"
      },
      "execution_count": 6,
      "outputs": []
    },
    {
      "cell_type": "markdown",
      "source": [
        "Extract function to get all items in multiple lists at given index"
      ],
      "metadata": {
        "id": "LHMYZ8jDqQ3t"
      }
    },
    {
      "cell_type": "code",
      "source": [
        "def Extract(list,index):\n",
        "    return [item[index] for item in list]"
      ],
      "metadata": {
        "id": "eJJK-8qXqPwT"
      },
      "execution_count": 7,
      "outputs": []
    },
    {
      "cell_type": "markdown",
      "source": [
        "dictionary keys ▶ interests  \n",
        "dictionary values ▶ whether the interest is chosen "
      ],
      "metadata": {
        "id": "bhtORshVqiXg"
      }
    },
    {
      "cell_type": "code",
      "source": [
        "for i in interestsList:\n",
        "  dict[i] = Extract(generatedInterestsListEn,interestsList.index(i))"
      ],
      "metadata": {
        "id": "1cjUO7yWjSxk"
      },
      "execution_count": 8,
      "outputs": []
    },
    {
      "cell_type": "markdown",
      "source": [
        "Create dataframe with user information generated above"
      ],
      "metadata": {
        "id": "HW6SWISmHE9R"
      }
    },
    {
      "cell_type": "code",
      "source": [
        "df = pd.DataFrame(dict)"
      ],
      "metadata": {
        "id": "jSN_Rezs4Dqg"
      },
      "execution_count": 9,
      "outputs": []
    },
    {
      "cell_type": "markdown",
      "source": [
        "One hot encode NYC Boroughs"
      ],
      "metadata": {
        "id": "KPdRxXdArbvm"
      }
    },
    {
      "cell_type": "code",
      "source": [
        "one_hotBoroughs = pd.get_dummies(df['Borough'])"
      ],
      "metadata": {
        "id": "V0PzXzSLPBC5"
      },
      "execution_count": 10,
      "outputs": []
    },
    {
      "cell_type": "markdown",
      "source": [
        "Join dataframes "
      ],
      "metadata": {
        "id": "ANezR_TLrkZ5"
      }
    },
    {
      "cell_type": "code",
      "source": [
        "df_final= df.join(one_hotBoroughs)"
      ],
      "metadata": {
        "id": "_rUs3mHsPPGO"
      },
      "execution_count": 11,
      "outputs": []
    },
    {
      "cell_type": "markdown",
      "source": [
        "Final User Dataset"
      ],
      "metadata": {
        "id": "wfyeSvjCrmvO"
      }
    },
    {
      "cell_type": "code",
      "source": [
        "df_final"
      ],
      "metadata": {
        "id": "4HVo3BCBPcYS"
      },
      "execution_count": null,
      "outputs": []
    }
  ]
}
{
  "nbformat": 4,
  "nbformat_minor": 0,
  "metadata": {
    "colab": {
      "name": "User_Dataset.ipynb",
      "provenance": []
    },
    "kernelspec": {
      "name": "python3",
      "display_name": "Python 3"
    },
    "language_info": {
      "name": "python"
    }
  },
  "cells": [
    {
      "cell_type": "markdown",
      "source": [
        "Import Libraries "
      ],
      "metadata": {
        "id": "Poa3QWqtEnn2"
      }
    },
    {
      "cell_type": "code",
      "source": [
        "import pandas as pd \n",
        "import numpy as np\n",
        "from numpy.random import choice\n",
        "import random\n"
      ],
      "metadata": {
        "id": "KBpU2D8E3J96"
      },
      "execution_count": null,
      "outputs": []
    },
    {
      "cell_type": "markdown",
      "source": [
        "Randomly generate user interests (up to 3 interests can be chosen at a time)\n",
        "\n"
      ],
      "metadata": {
        "id": "XuhsehubE5pA"
      }
    },
    {
      "cell_type": "code",
      "source": [
        "interestsList = [\"Health services\", \"Social services\" , \"Advocacy and Justice\", \"Food and Agriculture\", \"Education\", \"Environment and Climate change\", \"Recreation and Leisure\", \"Technology and Innovation\", \"Outreach and Advertising\", \"Child services\"]\n",
        "generatedInterestsListEn = []\n",
        "generatedInterestsList = []"
      ],
      "metadata": {
        "id": "D4FL2a5pTSzS"
      },
      "execution_count": null,
      "outputs": []
    },
    {
      "cell_type": "markdown",
      "source": [
        "Encode interests to machine readable binary numbers "
      ],
      "metadata": {
        "id": "UhryR8nfqGIy"
      }
    },
    {
      "cell_type": "code",
      "source": [
        "for i in range(12000):\n",
        "  # randomly choose number of interests \n",
        "  numInterests = random.randint(1,3) \n",
        "  \n",
        "  user_InterestsEn =[0,0,0,0,0,0,0,0,0,0]\n",
        "  user_Interests = []\n",
        "  for x in range(numInterests):\n",
        "    generatedInterest = random.choices(interestsList, [0.1,0.1,0.1,0.1,0.1,0.1,0.1,0.1,0.1,0.1])\n",
        "    # to avoid duplicates\n",
        "    while (generatedInterest in user_Interests):\n",
        "        generatedInterest = random.choices(interestsList, [0.1,0.1,0.1,0.1,0.1,0.1,0.1,0.1,0.1,0.1])\n",
        "\n",
        "    index = interestsList.index(generatedInterest[0])\n",
        "    user_InterestsEn[index] = 1\n",
        "    user_Interests.append(generatedInterest)\n",
        "  \n",
        "  generatedInterestsListEn.append(user_InterestsEn)\n",
        "  generatedInterestsList.append(user_Interests)"
      ],
      "metadata": {
        "id": "aoq6aO7v9vBC"
      },
      "execution_count": null,
      "outputs": []
    },
    {
      "cell_type": "markdown",
      "source": [
        "Randomly generate user age with respect to age demographics in NYC\n",
        "\n"
      ],
      "metadata": {
        "id": "6ziUpjYcFozU"
      }
    },
    {
      "cell_type": "code",
      "source": [
        "ageList = [0,1,2]\n",
        "\n",
        "generatedAgeArray = choice(ageList,12000, p=[0.10,0.78,0.12])"
      ],
      "metadata": {
        "id": "mN1cqQYT348m"
      },
      "execution_count": null,
      "outputs": []
    },
    {
      "cell_type": "markdown",
      "source": [
        "Randomly generate user borough with respect to population demographics in NYC"
      ],
      "metadata": {
        "id": "fzahpwyfGHYh"
      }
    },
    {
      "cell_type": "code",
      "source": [
        "boroughList = [\"The Bronx\", \"Brooklyn\", \"Manhattan\", \"Queens\", \"Staten Island\"]\n",
        "\n",
        "generatedBoroughArray = choice(boroughList,12000, p=[0.17,0.31,0.19,0.27,0.06])"
      ],
      "metadata": {
        "id": "FPfq-kI934vs"
      },
      "execution_count": null,
      "outputs": []
    },
    {
      "cell_type": "markdown",
      "source": [
        "Create dictionary with user information"
      ],
      "metadata": {
        "id": "1wYT56fqGUxM"
      }
    },
    {
      "cell_type": "code",
      "source": [
        "dict = {'Age': generatedAgeArray, 'Borough': generatedBoroughArray, 'Interests': generatedInterestsList} \n"
      ],
      "metadata": {
        "id": "ZR6ebqga34Zt"
      },
      "execution_count": null,
      "outputs": []
    },
    {
      "cell_type": "markdown",
      "source": [
        "Extract function to get all items in multiple lists at given index"
      ],
      "metadata": {
        "id": "LHMYZ8jDqQ3t"
      }
    },
    {
      "cell_type": "code",
      "source": [
        "def Extract(list,index):\n",
        "    return [item[index] for item in list]"
      ],
      "metadata": {
        "id": "eJJK-8qXqPwT"
      },
      "execution_count": null,
      "outputs": []
    },
    {
      "cell_type": "markdown",
      "source": [
        "dictionary keys ▶ interests  \n",
        "dictionary values ▶ whether the interest is chosen "
      ],
      "metadata": {
        "id": "bhtORshVqiXg"
      }
    },
    {
      "cell_type": "code",
      "source": [
        "for i in interestsList:\n",
        "  dict[i] = Extract(generatedInterestsListEn,interestsList.index(i))"
      ],
      "metadata": {
        "id": "1cjUO7yWjSxk"
      },
      "execution_count": null,
      "outputs": []
    },
    {
      "cell_type": "markdown",
      "source": [
        "Create dataframe with user information generated above"
      ],
      "metadata": {
        "id": "HW6SWISmHE9R"
      }
    },
    {
      "cell_type": "code",
      "source": [
        "df = pd.DataFrame(dict)"
      ],
      "metadata": {
        "id": "jSN_Rezs4Dqg"
      },
      "execution_count": null,
      "outputs": []
    },
    {
      "cell_type": "markdown",
      "source": [
        "One hot encode NYC Boroughs"
      ],
      "metadata": {
        "id": "KPdRxXdArbvm"
      }
    },
    {
      "cell_type": "code",
      "source": [
        "one_hotBoroughs = pd.get_dummies(df['Borough'])"
      ],
      "metadata": {
        "id": "V0PzXzSLPBC5"
      },
      "execution_count": null,
      "outputs": []
    },
    {
      "cell_type": "markdown",
      "source": [
        "Join dataframes "
      ],
      "metadata": {
        "id": "ANezR_TLrkZ5"
      }
    },
    {
      "cell_type": "code",
      "source": [
        "df_final= df.join(one_hotBoroughs)"
      ],
      "metadata": {
        "id": "_rUs3mHsPPGO"
      },
      "execution_count": null,
      "outputs": []
    },
    {
      "cell_type": "markdown",
      "source": [
        "Final User Dataset"
      ],
      "metadata": {
        "id": "wfyeSvjCrmvO"
      }
    },
    {
      "cell_type": "code",
      "source": [
        "df_final"
      ],
      "metadata": {
        "colab": {
          "base_uri": "https://localhost:8080/",
          "height": 956
        },
        "id": "4HVo3BCBPcYS",
        "outputId": "9fbd8016-14ba-433f-c4b6-f9251fdaeb24"
      },
      "execution_count": null,
      "outputs": [
        {
          "output_type": "execute_result",
          "data": {
            "text/plain": [
              "       Age        Borough                                          Interests  \\\n",
              "0        2       Brooklyn  [[Child services], [Education], [Health servic...   \n",
              "1        1       Brooklyn         [[Advocacy and Justice], [Child services]]   \n",
              "2        1      Manhattan   [[Food and Agriculture], [Advocacy and Justice]]   \n",
              "3        1       Brooklyn  [[Food and Agriculture], [Recreation and Leisu...   \n",
              "4        2  Staten Island  [[Child services], [Social services], [Recreat...   \n",
              "...    ...            ...                                                ...   \n",
              "11995    0       Brooklyn                           [[Food and Agriculture]]   \n",
              "11996    1      Manhattan                      [[Technology and Innovation]]   \n",
              "11997    1      Manhattan    [[Environment and Climate change], [Education]]   \n",
              "11998    1         Queens                           [[Advocacy and Justice]]   \n",
              "11999    1      Manhattan                         [[Recreation and Leisure]]   \n",
              "\n",
              "       Health services  Social services  Advocacy and Justice  \\\n",
              "0                    1                0                     0   \n",
              "1                    0                0                     1   \n",
              "2                    0                0                     1   \n",
              "3                    0                0                     0   \n",
              "4                    0                1                     0   \n",
              "...                ...              ...                   ...   \n",
              "11995                0                0                     0   \n",
              "11996                0                0                     0   \n",
              "11997                0                0                     0   \n",
              "11998                0                0                     1   \n",
              "11999                0                0                     0   \n",
              "\n",
              "       Food and Agriculture  Education  Environment and Climate change  \\\n",
              "0                         0          1                               0   \n",
              "1                         0          0                               0   \n",
              "2                         1          0                               0   \n",
              "3                         1          0                               0   \n",
              "4                         0          0                               0   \n",
              "...                     ...        ...                             ...   \n",
              "11995                     1          0                               0   \n",
              "11996                     0          0                               0   \n",
              "11997                     0          1                               1   \n",
              "11998                     0          0                               0   \n",
              "11999                     0          0                               0   \n",
              "\n",
              "       Recreation and Leisure  Technology and Innovation  \\\n",
              "0                           0                          0   \n",
              "1                           0                          0   \n",
              "2                           0                          0   \n",
              "3                           1                          0   \n",
              "4                           1                          0   \n",
              "...                       ...                        ...   \n",
              "11995                       0                          0   \n",
              "11996                       0                          1   \n",
              "11997                       0                          0   \n",
              "11998                       0                          0   \n",
              "11999                       1                          0   \n",
              "\n",
              "       Outreach and Advertising  Child services  Brooklyn  Manhattan  Queens  \\\n",
              "0                             0               1         1          0       0   \n",
              "1                             0               1         1          0       0   \n",
              "2                             0               0         0          1       0   \n",
              "3                             0               0         1          0       0   \n",
              "4                             0               1         0          0       0   \n",
              "...                         ...             ...       ...        ...     ...   \n",
              "11995                         0               0         1          0       0   \n",
              "11996                         0               0         0          1       0   \n",
              "11997                         0               0         0          1       0   \n",
              "11998                         0               0         0          0       1   \n",
              "11999                         0               0         0          1       0   \n",
              "\n",
              "       Staten Island  The Bronx  \n",
              "0                  0          0  \n",
              "1                  0          0  \n",
              "2                  0          0  \n",
              "3                  0          0  \n",
              "4                  1          0  \n",
              "...              ...        ...  \n",
              "11995              0          0  \n",
              "11996              0          0  \n",
              "11997              0          0  \n",
              "11998              0          0  \n",
              "11999              0          0  \n",
              "\n",
              "[12000 rows x 18 columns]"
            ],
            "text/html": [
              "\n",
              "  <div id=\"df-5bde6d08-7fef-4bb2-865d-0c04d65a38de\">\n",
              "    <div class=\"colab-df-container\">\n",
              "      <div>\n",
              "<style scoped>\n",
              "    .dataframe tbody tr th:only-of-type {\n",
              "        vertical-align: middle;\n",
              "    }\n",
              "\n",
              "    .dataframe tbody tr th {\n",
              "        vertical-align: top;\n",
              "    }\n",
              "\n",
              "    .dataframe thead th {\n",
              "        text-align: right;\n",
              "    }\n",
              "</style>\n",
              "<table border=\"1\" class=\"dataframe\">\n",
              "  <thead>\n",
              "    <tr style=\"text-align: right;\">\n",
              "      <th></th>\n",
              "      <th>Age</th>\n",
              "      <th>Borough</th>\n",
              "      <th>Interests</th>\n",
              "      <th>Health services</th>\n",
              "      <th>Social services</th>\n",
              "      <th>Advocacy and Justice</th>\n",
              "      <th>Food and Agriculture</th>\n",
              "      <th>Education</th>\n",
              "      <th>Environment and Climate change</th>\n",
              "      <th>Recreation and Leisure</th>\n",
              "      <th>Technology and Innovation</th>\n",
              "      <th>Outreach and Advertising</th>\n",
              "      <th>Child services</th>\n",
              "      <th>Brooklyn</th>\n",
              "      <th>Manhattan</th>\n",
              "      <th>Queens</th>\n",
              "      <th>Staten Island</th>\n",
              "      <th>The Bronx</th>\n",
              "    </tr>\n",
              "  </thead>\n",
              "  <tbody>\n",
              "    <tr>\n",
              "      <th>0</th>\n",
              "      <td>2</td>\n",
              "      <td>Brooklyn</td>\n",
              "      <td>[[Child services], [Education], [Health servic...</td>\n",
              "      <td>1</td>\n",
              "      <td>0</td>\n",
              "      <td>0</td>\n",
              "      <td>0</td>\n",
              "      <td>1</td>\n",
              "      <td>0</td>\n",
              "      <td>0</td>\n",
              "      <td>0</td>\n",
              "      <td>0</td>\n",
              "      <td>1</td>\n",
              "      <td>1</td>\n",
              "      <td>0</td>\n",
              "      <td>0</td>\n",
              "      <td>0</td>\n",
              "      <td>0</td>\n",
              "    </tr>\n",
              "    <tr>\n",
              "      <th>1</th>\n",
              "      <td>1</td>\n",
              "      <td>Brooklyn</td>\n",
              "      <td>[[Advocacy and Justice], [Child services]]</td>\n",
              "      <td>0</td>\n",
              "      <td>0</td>\n",
              "      <td>1</td>\n",
              "      <td>0</td>\n",
              "      <td>0</td>\n",
              "      <td>0</td>\n",
              "      <td>0</td>\n",
              "      <td>0</td>\n",
              "      <td>0</td>\n",
              "      <td>1</td>\n",
              "      <td>1</td>\n",
              "      <td>0</td>\n",
              "      <td>0</td>\n",
              "      <td>0</td>\n",
              "      <td>0</td>\n",
              "    </tr>\n",
              "    <tr>\n",
              "      <th>2</th>\n",
              "      <td>1</td>\n",
              "      <td>Manhattan</td>\n",
              "      <td>[[Food and Agriculture], [Advocacy and Justice]]</td>\n",
              "      <td>0</td>\n",
              "      <td>0</td>\n",
              "      <td>1</td>\n",
              "      <td>1</td>\n",
              "      <td>0</td>\n",
              "      <td>0</td>\n",
              "      <td>0</td>\n",
              "      <td>0</td>\n",
              "      <td>0</td>\n",
              "      <td>0</td>\n",
              "      <td>0</td>\n",
              "      <td>1</td>\n",
              "      <td>0</td>\n",
              "      <td>0</td>\n",
              "      <td>0</td>\n",
              "    </tr>\n",
              "    <tr>\n",
              "      <th>3</th>\n",
              "      <td>1</td>\n",
              "      <td>Brooklyn</td>\n",
              "      <td>[[Food and Agriculture], [Recreation and Leisu...</td>\n",
              "      <td>0</td>\n",
              "      <td>0</td>\n",
              "      <td>0</td>\n",
              "      <td>1</td>\n",
              "      <td>0</td>\n",
              "      <td>0</td>\n",
              "      <td>1</td>\n",
              "      <td>0</td>\n",
              "      <td>0</td>\n",
              "      <td>0</td>\n",
              "      <td>1</td>\n",
              "      <td>0</td>\n",
              "      <td>0</td>\n",
              "      <td>0</td>\n",
              "      <td>0</td>\n",
              "    </tr>\n",
              "    <tr>\n",
              "      <th>4</th>\n",
              "      <td>2</td>\n",
              "      <td>Staten Island</td>\n",
              "      <td>[[Child services], [Social services], [Recreat...</td>\n",
              "      <td>0</td>\n",
              "      <td>1</td>\n",
              "      <td>0</td>\n",
              "      <td>0</td>\n",
              "      <td>0</td>\n",
              "      <td>0</td>\n",
              "      <td>1</td>\n",
              "      <td>0</td>\n",
              "      <td>0</td>\n",
              "      <td>1</td>\n",
              "      <td>0</td>\n",
              "      <td>0</td>\n",
              "      <td>0</td>\n",
              "      <td>1</td>\n",
              "      <td>0</td>\n",
              "    </tr>\n",
              "    <tr>\n",
              "      <th>...</th>\n",
              "      <td>...</td>\n",
              "      <td>...</td>\n",
              "      <td>...</td>\n",
              "      <td>...</td>\n",
              "      <td>...</td>\n",
              "      <td>...</td>\n",
              "      <td>...</td>\n",
              "      <td>...</td>\n",
              "      <td>...</td>\n",
              "      <td>...</td>\n",
              "      <td>...</td>\n",
              "      <td>...</td>\n",
              "      <td>...</td>\n",
              "      <td>...</td>\n",
              "      <td>...</td>\n",
              "      <td>...</td>\n",
              "      <td>...</td>\n",
              "      <td>...</td>\n",
              "    </tr>\n",
              "    <tr>\n",
              "      <th>11995</th>\n",
              "      <td>0</td>\n",
              "      <td>Brooklyn</td>\n",
              "      <td>[[Food and Agriculture]]</td>\n",
              "      <td>0</td>\n",
              "      <td>0</td>\n",
              "      <td>0</td>\n",
              "      <td>1</td>\n",
              "      <td>0</td>\n",
              "      <td>0</td>\n",
              "      <td>0</td>\n",
              "      <td>0</td>\n",
              "      <td>0</td>\n",
              "      <td>0</td>\n",
              "      <td>1</td>\n",
              "      <td>0</td>\n",
              "      <td>0</td>\n",
              "      <td>0</td>\n",
              "      <td>0</td>\n",
              "    </tr>\n",
              "    <tr>\n",
              "      <th>11996</th>\n",
              "      <td>1</td>\n",
              "      <td>Manhattan</td>\n",
              "      <td>[[Technology and Innovation]]</td>\n",
              "      <td>0</td>\n",
              "      <td>0</td>\n",
              "      <td>0</td>\n",
              "      <td>0</td>\n",
              "      <td>0</td>\n",
              "      <td>0</td>\n",
              "      <td>0</td>\n",
              "      <td>1</td>\n",
              "      <td>0</td>\n",
              "      <td>0</td>\n",
              "      <td>0</td>\n",
              "      <td>1</td>\n",
              "      <td>0</td>\n",
              "      <td>0</td>\n",
              "      <td>0</td>\n",
              "    </tr>\n",
              "    <tr>\n",
              "      <th>11997</th>\n",
              "      <td>1</td>\n",
              "      <td>Manhattan</td>\n",
              "      <td>[[Environment and Climate change], [Education]]</td>\n",
              "      <td>0</td>\n",
              "      <td>0</td>\n",
              "      <td>0</td>\n",
              "      <td>0</td>\n",
              "      <td>1</td>\n",
              "      <td>1</td>\n",
              "      <td>0</td>\n",
              "      <td>0</td>\n",
              "      <td>0</td>\n",
              "      <td>0</td>\n",
              "      <td>0</td>\n",
              "      <td>1</td>\n",
              "      <td>0</td>\n",
              "      <td>0</td>\n",
              "      <td>0</td>\n",
              "    </tr>\n",
              "    <tr>\n",
              "      <th>11998</th>\n",
              "      <td>1</td>\n",
              "      <td>Queens</td>\n",
              "      <td>[[Advocacy and Justice]]</td>\n",
              "      <td>0</td>\n",
              "      <td>0</td>\n",
              "      <td>1</td>\n",
              "      <td>0</td>\n",
              "      <td>0</td>\n",
              "      <td>0</td>\n",
              "      <td>0</td>\n",
              "      <td>0</td>\n",
              "      <td>0</td>\n",
              "      <td>0</td>\n",
              "      <td>0</td>\n",
              "      <td>0</td>\n",
              "      <td>1</td>\n",
              "      <td>0</td>\n",
              "      <td>0</td>\n",
              "    </tr>\n",
              "    <tr>\n",
              "      <th>11999</th>\n",
              "      <td>1</td>\n",
              "      <td>Manhattan</td>\n",
              "      <td>[[Recreation and Leisure]]</td>\n",
              "      <td>0</td>\n",
              "      <td>0</td>\n",
              "      <td>0</td>\n",
              "      <td>0</td>\n",
              "      <td>0</td>\n",
              "      <td>0</td>\n",
              "      <td>1</td>\n",
              "      <td>0</td>\n",
              "      <td>0</td>\n",
              "      <td>0</td>\n",
              "      <td>0</td>\n",
              "      <td>1</td>\n",
              "      <td>0</td>\n",
              "      <td>0</td>\n",
              "      <td>0</td>\n",
              "    </tr>\n",
              "  </tbody>\n",
              "</table>\n",
              "<p>12000 rows × 18 columns</p>\n",
              "</div>\n",
              "      <button class=\"colab-df-convert\" onclick=\"convertToInteractive('df-5bde6d08-7fef-4bb2-865d-0c04d65a38de')\"\n",
              "              title=\"Convert this dataframe to an interactive table.\"\n",
              "              style=\"display:none;\">\n",
              "        \n",
              "  <svg xmlns=\"http://www.w3.org/2000/svg\" height=\"24px\"viewBox=\"0 0 24 24\"\n",
              "       width=\"24px\">\n",
              "    <path d=\"M0 0h24v24H0V0z\" fill=\"none\"/>\n",
              "    <path d=\"M18.56 5.44l.94 2.06.94-2.06 2.06-.94-2.06-.94-.94-2.06-.94 2.06-2.06.94zm-11 1L8.5 8.5l.94-2.06 2.06-.94-2.06-.94L8.5 2.5l-.94 2.06-2.06.94zm10 10l.94 2.06.94-2.06 2.06-.94-2.06-.94-.94-2.06-.94 2.06-2.06.94z\"/><path d=\"M17.41 7.96l-1.37-1.37c-.4-.4-.92-.59-1.43-.59-.52 0-1.04.2-1.43.59L10.3 9.45l-7.72 7.72c-.78.78-.78 2.05 0 2.83L4 21.41c.39.39.9.59 1.41.59.51 0 1.02-.2 1.41-.59l7.78-7.78 2.81-2.81c.8-.78.8-2.07 0-2.86zM5.41 20L4 18.59l7.72-7.72 1.47 1.35L5.41 20z\"/>\n",
              "  </svg>\n",
              "      </button>\n",
              "      \n",
              "  <style>\n",
              "    .colab-df-container {\n",
              "      display:flex;\n",
              "      flex-wrap:wrap;\n",
              "      gap: 12px;\n",
              "    }\n",
              "\n",
              "    .colab-df-convert {\n",
              "      background-color: #E8F0FE;\n",
              "      border: none;\n",
              "      border-radius: 50%;\n",
              "      cursor: pointer;\n",
              "      display: none;\n",
              "      fill: #1967D2;\n",
              "      height: 32px;\n",
              "      padding: 0 0 0 0;\n",
              "      width: 32px;\n",
              "    }\n",
              "\n",
              "    .colab-df-convert:hover {\n",
              "      background-color: #E2EBFA;\n",
              "      box-shadow: 0px 1px 2px rgba(60, 64, 67, 0.3), 0px 1px 3px 1px rgba(60, 64, 67, 0.15);\n",
              "      fill: #174EA6;\n",
              "    }\n",
              "\n",
              "    [theme=dark] .colab-df-convert {\n",
              "      background-color: #3B4455;\n",
              "      fill: #D2E3FC;\n",
              "    }\n",
              "\n",
              "    [theme=dark] .colab-df-convert:hover {\n",
              "      background-color: #434B5C;\n",
              "      box-shadow: 0px 1px 3px 1px rgba(0, 0, 0, 0.15);\n",
              "      filter: drop-shadow(0px 1px 2px rgba(0, 0, 0, 0.3));\n",
              "      fill: #FFFFFF;\n",
              "    }\n",
              "  </style>\n",
              "\n",
              "      <script>\n",
              "        const buttonEl =\n",
              "          document.querySelector('#df-5bde6d08-7fef-4bb2-865d-0c04d65a38de button.colab-df-convert');\n",
              "        buttonEl.style.display =\n",
              "          google.colab.kernel.accessAllowed ? 'block' : 'none';\n",
              "\n",
              "        async function convertToInteractive(key) {\n",
              "          const element = document.querySelector('#df-5bde6d08-7fef-4bb2-865d-0c04d65a38de');\n",
              "          const dataTable =\n",
              "            await google.colab.kernel.invokeFunction('convertToInteractive',\n",
              "                                                     [key], {});\n",
              "          if (!dataTable) return;\n",
              "\n",
              "          const docLinkHtml = 'Like what you see? Visit the ' +\n",
              "            '<a target=\"_blank\" href=https://colab.research.google.com/notebooks/data_table.ipynb>data table notebook</a>'\n",
              "            + ' to learn more about interactive tables.';\n",
              "          element.innerHTML = '';\n",
              "          dataTable['output_type'] = 'display_data';\n",
              "          await google.colab.output.renderOutput(dataTable, element);\n",
              "          const docLink = document.createElement('div');\n",
              "          docLink.innerHTML = docLinkHtml;\n",
              "          element.appendChild(docLink);\n",
              "        }\n",
              "      </script>\n",
              "    </div>\n",
              "  </div>\n",
              "  "
            ]
          },
          "metadata": {},
          "execution_count": 338
        }
      ]
    }
  ]
}
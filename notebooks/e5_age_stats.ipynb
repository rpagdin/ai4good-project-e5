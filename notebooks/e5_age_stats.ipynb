{
  "nbformat": 4,
  "nbformat_minor": 0,
  "metadata": {
    "colab": {
      "name": "e5_age_stats.ipynb",
      "provenance": []
    },
    "kernelspec": {
      "name": "python3",
      "display_name": "Python 3"
    },
    "language_info": {
      "name": "python"
    }
  },
  "cells": [
    {
      "cell_type": "markdown",
      "source": [
        "## Calculating age group distribution in organization dataset\n",
        "Author: Rachel Pagdin\n",
        "\n",
        "Needs files: \n",
        "*   org_dataset.csv\n",
        "\n"
      ],
      "metadata": {
        "id": "Sr-dl5-h3kKp"
      }
    },
    {
      "cell_type": "code",
      "execution_count": null,
      "metadata": {
        "colab": {
          "base_uri": "https://localhost:8080/"
        },
        "id": "85y9cM6R101R",
        "outputId": "d2bef30d-e0d1-456c-8910-8a43f492a3fd"
      },
      "outputs": [
        {
          "output_type": "execute_result",
          "data": {
            "text/plain": [
              "Index(['Organization/ City Agency/ Division Name',\n",
              "       'Street Address/Mailing Address', 'City', 'State', 'Postcode',\n",
              "       'Year Surveyed', 'Total Vounteers', 'Youth volunteers',\n",
              "       'Adult Volunteers', 'Older adult Volunteers', 'Organization Type',\n",
              "       'Interest Areas', 'Special Populations Served', 'Boroughs  Served',\n",
              "       'Borough', 'Latitude', 'Longitude', 'Community Board',\n",
              "       'Council District', 'Census Tract', 'BIN', 'BBL', 'NTA'],\n",
              "      dtype='object')"
            ]
          },
          "metadata": {},
          "execution_count": 2
        }
      ],
      "source": [
        "import numpy as np\n",
        "import pandas as pd\n",
        "import copy\n",
        "\n",
        "df = pd.read_csv('/content/org_dataset.csv')\n",
        "df.columns"
      ]
    },
    {
      "cell_type": "markdown",
      "source": [
        "#### Make copies and modify lists"
      ],
      "metadata": {
        "id": "HnLXb0KGEKi1"
      }
    },
    {
      "cell_type": "code",
      "source": [
        "total_vol = copy.deepcopy(df['Total Vounteers'])\n",
        "youth_vol = copy.deepcopy(df['Youth volunteers'])\n",
        "adult_vol = copy.deepcopy(df['Adult Volunteers'])\n",
        "older_vol = copy.deepcopy(df['Older adult Volunteers'])"
      ],
      "metadata": {
        "id": "_Jif31fq2Nhc"
      },
      "execution_count": null,
      "outputs": []
    },
    {
      "cell_type": "code",
      "source": [
        "older_vol.unique()"
      ],
      "metadata": {
        "colab": {
          "base_uri": "https://localhost:8080/"
        },
        "id": "-C6V2GGJ55PX",
        "outputId": "ae4345e3-ca07-46f2-bf2c-22eaa2e23058"
      },
      "execution_count": null,
      "outputs": [
        {
          "output_type": "execute_result",
          "data": {
            "text/plain": [
              "array(['40', '44', '0', '5', '2', '15', '20', '3', '10', '1', '8', '100',\n",
              "       '18', '14', '274', '91', '185', '55', '7', '24', '550', '12', '9',\n",
              "       '32', '90', '25', '13', '215', '6', '45', '70', '11', '30', '50',\n",
              "       '28', '22', '601', '119', '60', '256', '4', '38', '52', '39',\n",
              "       '144', '54', '108', '314', '105', '150', '106', '132', '83', '194',\n",
              "       '951', '600', '110', '207', '2456', '183', '241', '0.18', '85',\n",
              "       '19', '67', '1355', '514', '57', '27', '33', '558', '74', '21',\n",
              "       '36', '490', '23', '87', '1311.5', '16', '77', '168', '123', '34',\n",
              "       '308', '42', '1800', '101', '120', '102', '96', '69', '133', '116',\n",
              "       '47', '17', '506', '400', '31', '284', '200', '1000', '175',\n",
              "       '1300', '82', '115', '-'], dtype=object)"
            ]
          },
          "metadata": {},
          "execution_count": 4
        }
      ]
    },
    {
      "cell_type": "code",
      "source": [
        "for i in range(len(total_vol)):\n",
        "  total_vol[i] = total_vol[i].replace(',', '')\n",
        "  youth_vol[i] = youth_vol[i].replace(',','')\n",
        "  youth_vol[i] = youth_vol[i].replace('-','0')\n",
        "  adult_vol[i] = adult_vol[i].replace(',','')\n",
        "  adult_vol[i] = adult_vol[i].replace('-','0')\n",
        "  older_vol[i] = older_vol[i].replace(',','')\n",
        "  older_vol[i] = older_vol[i].replace('-','0')\n",
        "\n",
        "total_vol = [float(i) for i in total_vol]\n",
        "youth_vol = [float(i) for i in youth_vol]\n",
        "adult_vol = [float(i) for i in adult_vol]\n",
        "older_vol = [float(i) for i in older_vol]\n"
      ],
      "metadata": {
        "id": "MH0nSOmk2jlJ"
      },
      "execution_count": null,
      "outputs": []
    },
    {
      "cell_type": "markdown",
      "source": [
        "#### Remove entries where they don't add to total "
      ],
      "metadata": {
        "id": "QjZhC8y9EVKT"
      }
    },
    {
      "cell_type": "code",
      "source": [
        "for i in range(len(total_vol)-1, -1, -1):     # iterate backwards\n",
        "  if abs((youth_vol[i] + adult_vol[i] + older_vol[i]) - total_vol[i]) > 3.0:    # could change this to check whether they are all zero \n",
        "    del(total_vol[i])\n",
        "    del(youth_vol[i])\n",
        "    del(adult_vol[i])\n",
        "    del(older_vol[i])"
      ],
      "metadata": {
        "id": "C7wh0_pJ93T2"
      },
      "execution_count": null,
      "outputs": []
    },
    {
      "cell_type": "code",
      "source": [
        "print(len(total_vol))"
      ],
      "metadata": {
        "colab": {
          "base_uri": "https://localhost:8080/"
        },
        "id": "Som5MVPUYHJa",
        "outputId": "396b3688-1949-4fc1-e6cf-b7fbe58a5c1b"
      },
      "execution_count": null,
      "outputs": [
        {
          "output_type": "stream",
          "name": "stdout",
          "text": [
            "344\n"
          ]
        }
      ]
    },
    {
      "cell_type": "code",
      "source": [
        "total = sum(total_vol)\n",
        "percent_youth = sum(youth_vol) / total\n",
        "percent_adult = sum(adult_vol) / total\n",
        "percent_older = sum(older_vol) / total\n",
        "\n",
        "print('Percent Youth:', percent_youth, '\\nPercent Adults:', percent_adult, '\\nPercent Older Adults:', percent_older)"
      ],
      "metadata": {
        "colab": {
          "base_uri": "https://localhost:8080/"
        },
        "id": "oPy9Ri114dkd",
        "outputId": "3624fb2b-3eae-4fd6-f33d-4b5cb43463b1"
      },
      "execution_count": null,
      "outputs": [
        {
          "output_type": "stream",
          "name": "stdout",
          "text": [
            "Percent Youth: 0.10352840414478673 \n",
            "Percent Adults: 0.7789938502148213 \n",
            "Percent Older Adults: 0.11748476594310747\n"
          ]
        }
      ]
    },
    {
      "cell_type": "code",
      "source": [
        "print(percent_youth + percent_adult + percent_older)"
      ],
      "metadata": {
        "colab": {
          "base_uri": "https://localhost:8080/"
        },
        "id": "XSB7q90j-hNC",
        "outputId": "a73c3fdd-c5d4-4c27-8110-ffb42d4880e8"
      },
      "execution_count": null,
      "outputs": [
        {
          "output_type": "stream",
          "name": "stdout",
          "text": [
            "1.0000070203027154\n"
          ]
        }
      ]
    }
  ]
}